{
 "cells": [
  {
   "cell_type": "markdown",
   "metadata": {},
   "source": [
    "Hola Katherine!\n",
    "\n",
    "Soy **Patricio Requena** 👋. Es un placer ser el revisor de tu proyecto el día de hoy!\n",
    "\n",
    "Revisaré tu proyecto detenidamente con el objetivo de ayudarte a mejorar y perfeccionar tus habilidades. Durante mi revisión, identificaré áreas donde puedas hacer mejoras en tu código, señalando específicamente qué y cómo podrías ajustar para optimizar el rendimiento y la claridad de tu proyecto. Además, es importante para mí destacar los aspectos que has manejado excepcionalmente bien. Reconocer tus fortalezas te ayudará a entender qué técnicas y métodos están funcionando a tu favor y cómo puedes aplicarlos en futuras tareas. \n",
    "\n",
    "_**Recuerda que al final de este notebook encontrarás un comentario general de mi parte**_, empecemos!\n",
    "\n",
    "Encontrarás mis comentarios dentro de cajas verdes, amarillas o rojas, ⚠️ **por favor, no muevas, modifiques o borres mis comentarios** ⚠️:\n",
    "\n",
    "\n",
    "<div class=\"alert alert-block alert-success\">\n",
    "<b>Comentario del revisor</b> <a class=“tocSkip”></a>\n",
    "Si todo está perfecto.\n",
    "</div>\n",
    "\n",
    "<div class=\"alert alert-block alert-warning\">\n",
    "<b>Comentario del revisor</b> <a class=“tocSkip”></a>\n",
    "Si tu código está bien pero se puede mejorar o hay algún detalle que le hace falta.\n",
    "</div>\n",
    "\n",
    "<div class=\"alert alert-block alert-danger\">\n",
    "<b>Comentario del revisor</b> <a class=“tocSkip”></a>\n",
    "Si de pronto hace falta algo o existe algún problema con tu código o conclusiones.\n",
    "</div>\n",
    "\n",
    "Puedes responderme de esta forma:\n",
    "<div class=\"alert alert-block alert-info\">\n",
    "<b>Respuesta del estudiante</b> <a class=“tocSkip”></a>\n",
    "</div>"
   ]
  },
  {
   "cell_type": "markdown",
   "metadata": {},
   "source": [
    "# Megaline"
   ]
  },
  {
   "cell_type": "markdown",
   "metadata": {},
   "source": [
    "## Análisis exploratorio de datos (Python):"
   ]
  },
  {
   "cell_type": "markdown",
   "metadata": {},
   "source": [
    "### Inicialización:"
   ]
  },
  {
   "cell_type": "code",
   "execution_count": 1,
   "metadata": {},
   "outputs": [],
   "source": [
    "# Librerías necesarias\n",
    "\n",
    "import pandas as pd\n",
    "from sklearn.model_selection import train_test_split\n",
    "from sklearn.tree import DecisionTreeClassifier\n",
    "from sklearn.linear_model import LogisticRegression\n",
    "from sklearn.metrics import accuracy_score, precision_score, recall_score, f1_score"
   ]
  },
  {
   "cell_type": "markdown",
   "metadata": {},
   "source": [
    "### Cargar Datos:"
   ]
  },
  {
   "cell_type": "code",
   "execution_count": 2,
   "metadata": {
    "scrolled": true
   },
   "outputs": [],
   "source": [
    "# Cargar el dataset\n",
    "data_cruda = pd.read_csv('/datasets/users_behavior.csv')"
   ]
  },
  {
   "cell_type": "markdown",
   "metadata": {},
   "source": [
    "<div class=\"alert alert-block alert-success\">\n",
    "<b>Comentario del revisor (1ra Iteracion)</b> <a class=“tocSkip”></a>\n",
    "\n",
    "Buen trabajo con la carga de datos e importación de librerías a utilizar\n",
    "</div>"
   ]
  },
  {
   "cell_type": "markdown",
   "metadata": {},
   "source": [
    "### Visualización de datos:"
   ]
  },
  {
   "cell_type": "code",
   "execution_count": 3,
   "metadata": {},
   "outputs": [
    {
     "data": {
      "text/html": [
       "<div>\n",
       "<style scoped>\n",
       "    .dataframe tbody tr th:only-of-type {\n",
       "        vertical-align: middle;\n",
       "    }\n",
       "\n",
       "    .dataframe tbody tr th {\n",
       "        vertical-align: top;\n",
       "    }\n",
       "\n",
       "    .dataframe thead th {\n",
       "        text-align: right;\n",
       "    }\n",
       "</style>\n",
       "<table border=\"1\" class=\"dataframe\">\n",
       "  <thead>\n",
       "    <tr style=\"text-align: right;\">\n",
       "      <th></th>\n",
       "      <th>calls</th>\n",
       "      <th>minutes</th>\n",
       "      <th>messages</th>\n",
       "      <th>mb_used</th>\n",
       "      <th>is_ultra</th>\n",
       "    </tr>\n",
       "  </thead>\n",
       "  <tbody>\n",
       "    <tr>\n",
       "      <th>0</th>\n",
       "      <td>40.0</td>\n",
       "      <td>311.90</td>\n",
       "      <td>83.0</td>\n",
       "      <td>19915.42</td>\n",
       "      <td>0</td>\n",
       "    </tr>\n",
       "    <tr>\n",
       "      <th>1</th>\n",
       "      <td>85.0</td>\n",
       "      <td>516.75</td>\n",
       "      <td>56.0</td>\n",
       "      <td>22696.96</td>\n",
       "      <td>0</td>\n",
       "    </tr>\n",
       "    <tr>\n",
       "      <th>2</th>\n",
       "      <td>77.0</td>\n",
       "      <td>467.66</td>\n",
       "      <td>86.0</td>\n",
       "      <td>21060.45</td>\n",
       "      <td>0</td>\n",
       "    </tr>\n",
       "    <tr>\n",
       "      <th>3</th>\n",
       "      <td>106.0</td>\n",
       "      <td>745.53</td>\n",
       "      <td>81.0</td>\n",
       "      <td>8437.39</td>\n",
       "      <td>1</td>\n",
       "    </tr>\n",
       "    <tr>\n",
       "      <th>4</th>\n",
       "      <td>66.0</td>\n",
       "      <td>418.74</td>\n",
       "      <td>1.0</td>\n",
       "      <td>14502.75</td>\n",
       "      <td>0</td>\n",
       "    </tr>\n",
       "  </tbody>\n",
       "</table>\n",
       "</div>"
      ],
      "text/plain": [
       "   calls  minutes  messages   mb_used  is_ultra\n",
       "0   40.0   311.90      83.0  19915.42         0\n",
       "1   85.0   516.75      56.0  22696.96         0\n",
       "2   77.0   467.66      86.0  21060.45         0\n",
       "3  106.0   745.53      81.0   8437.39         1\n",
       "4   66.0   418.74       1.0  14502.75         0"
      ]
     },
     "metadata": {},
     "output_type": "display_data"
    }
   ],
   "source": [
    "# Inspección inicial\n",
    "display(data_cruda.head())\n"
   ]
  },
  {
   "cell_type": "markdown",
   "metadata": {},
   "source": [
    "<div class=\"alert alert-block alert-warning\">\n",
    "<b>Comentario del revisor (1ra Iteracion)</b> <a class=“tocSkip”></a>\n",
    "\n",
    "Cuando muestres resultados de `.head()` es mejor utilizar `display()` en lugar del print para mosra los datos en forma de tabla en lugar de solo texto\n",
    "</div>"
   ]
  },
  {
   "cell_type": "markdown",
   "metadata": {},
   "source": [
    "<div class=\"alert alert-block alert-info\">\n",
    "<b>Se realizó correción, se agregó el metodo display </b> <a class=“tocSkip”></a>\n",
    "</div>"
   ]
  },
  {
   "cell_type": "markdown",
   "metadata": {},
   "source": [
    "### Estudiar los datos que contienen:"
   ]
  },
  {
   "cell_type": "code",
   "execution_count": 4,
   "metadata": {},
   "outputs": [
    {
     "name": "stdout",
     "output_type": "stream",
     "text": [
      "<class 'pandas.core.frame.DataFrame'>\n",
      "RangeIndex: 3214 entries, 0 to 3213\n",
      "Data columns (total 5 columns):\n",
      " #   Column    Non-Null Count  Dtype  \n",
      "---  ------    --------------  -----  \n",
      " 0   calls     3214 non-null   float64\n",
      " 1   minutes   3214 non-null   float64\n",
      " 2   messages  3214 non-null   float64\n",
      " 3   mb_used   3214 non-null   float64\n",
      " 4   is_ultra  3214 non-null   int64  \n",
      "dtypes: float64(4), int64(1)\n",
      "memory usage: 125.7 KB\n"
     ]
    }
   ],
   "source": [
    "data_cruda.info()\n"
   ]
  },
  {
   "cell_type": "code",
   "execution_count": 5,
   "metadata": {},
   "outputs": [
    {
     "data": {
      "text/html": [
       "<div>\n",
       "<style scoped>\n",
       "    .dataframe tbody tr th:only-of-type {\n",
       "        vertical-align: middle;\n",
       "    }\n",
       "\n",
       "    .dataframe tbody tr th {\n",
       "        vertical-align: top;\n",
       "    }\n",
       "\n",
       "    .dataframe thead th {\n",
       "        text-align: right;\n",
       "    }\n",
       "</style>\n",
       "<table border=\"1\" class=\"dataframe\">\n",
       "  <thead>\n",
       "    <tr style=\"text-align: right;\">\n",
       "      <th></th>\n",
       "      <th>calls</th>\n",
       "      <th>minutes</th>\n",
       "      <th>messages</th>\n",
       "      <th>mb_used</th>\n",
       "      <th>is_ultra</th>\n",
       "    </tr>\n",
       "  </thead>\n",
       "  <tbody>\n",
       "    <tr>\n",
       "      <th>count</th>\n",
       "      <td>3214.000000</td>\n",
       "      <td>3214.000000</td>\n",
       "      <td>3214.000000</td>\n",
       "      <td>3214.000000</td>\n",
       "      <td>3214.000000</td>\n",
       "    </tr>\n",
       "    <tr>\n",
       "      <th>mean</th>\n",
       "      <td>63.038892</td>\n",
       "      <td>438.208787</td>\n",
       "      <td>38.281269</td>\n",
       "      <td>17207.673836</td>\n",
       "      <td>0.306472</td>\n",
       "    </tr>\n",
       "    <tr>\n",
       "      <th>std</th>\n",
       "      <td>33.236368</td>\n",
       "      <td>234.569872</td>\n",
       "      <td>36.148326</td>\n",
       "      <td>7570.968246</td>\n",
       "      <td>0.461100</td>\n",
       "    </tr>\n",
       "    <tr>\n",
       "      <th>min</th>\n",
       "      <td>0.000000</td>\n",
       "      <td>0.000000</td>\n",
       "      <td>0.000000</td>\n",
       "      <td>0.000000</td>\n",
       "      <td>0.000000</td>\n",
       "    </tr>\n",
       "    <tr>\n",
       "      <th>25%</th>\n",
       "      <td>40.000000</td>\n",
       "      <td>274.575000</td>\n",
       "      <td>9.000000</td>\n",
       "      <td>12491.902500</td>\n",
       "      <td>0.000000</td>\n",
       "    </tr>\n",
       "    <tr>\n",
       "      <th>50%</th>\n",
       "      <td>62.000000</td>\n",
       "      <td>430.600000</td>\n",
       "      <td>30.000000</td>\n",
       "      <td>16943.235000</td>\n",
       "      <td>0.000000</td>\n",
       "    </tr>\n",
       "    <tr>\n",
       "      <th>75%</th>\n",
       "      <td>82.000000</td>\n",
       "      <td>571.927500</td>\n",
       "      <td>57.000000</td>\n",
       "      <td>21424.700000</td>\n",
       "      <td>1.000000</td>\n",
       "    </tr>\n",
       "    <tr>\n",
       "      <th>max</th>\n",
       "      <td>244.000000</td>\n",
       "      <td>1632.060000</td>\n",
       "      <td>224.000000</td>\n",
       "      <td>49745.730000</td>\n",
       "      <td>1.000000</td>\n",
       "    </tr>\n",
       "  </tbody>\n",
       "</table>\n",
       "</div>"
      ],
      "text/plain": [
       "             calls      minutes     messages       mb_used     is_ultra\n",
       "count  3214.000000  3214.000000  3214.000000   3214.000000  3214.000000\n",
       "mean     63.038892   438.208787    38.281269  17207.673836     0.306472\n",
       "std      33.236368   234.569872    36.148326   7570.968246     0.461100\n",
       "min       0.000000     0.000000     0.000000      0.000000     0.000000\n",
       "25%      40.000000   274.575000     9.000000  12491.902500     0.000000\n",
       "50%      62.000000   430.600000    30.000000  16943.235000     0.000000\n",
       "75%      82.000000   571.927500    57.000000  21424.700000     1.000000\n",
       "max     244.000000  1632.060000   224.000000  49745.730000     1.000000"
      ]
     },
     "execution_count": 5,
     "metadata": {},
     "output_type": "execute_result"
    }
   ],
   "source": [
    "data_cruda.describe()"
   ]
  },
  {
   "cell_type": "markdown",
   "metadata": {},
   "source": [
    "## Preparar los datos:"
   ]
  },
  {
   "cell_type": "markdown",
   "metadata": {},
   "source": [
    "### Revisión de datos nulos:"
   ]
  },
  {
   "cell_type": "code",
   "execution_count": 6,
   "metadata": {},
   "outputs": [
    {
     "data": {
      "text/plain": [
       "calls       0\n",
       "minutes     0\n",
       "messages    0\n",
       "mb_used     0\n",
       "is_ultra    0\n",
       "dtype: int64"
      ]
     },
     "execution_count": 6,
     "metadata": {},
     "output_type": "execute_result"
    }
   ],
   "source": [
    "data_cruda.isna().sum()"
   ]
  },
  {
   "cell_type": "markdown",
   "metadata": {},
   "source": [
    "### Revisión de datos duplicados:"
   ]
  },
  {
   "cell_type": "code",
   "execution_count": 7,
   "metadata": {},
   "outputs": [
    {
     "data": {
      "text/plain": [
       "0"
      ]
     },
     "execution_count": 7,
     "metadata": {},
     "output_type": "execute_result"
    }
   ],
   "source": [
    "data_cruda.duplicated().sum()"
   ]
  },
  {
   "cell_type": "markdown",
   "metadata": {},
   "source": [
    "## Analisis de Datos:"
   ]
  },
  {
   "cell_type": "markdown",
   "metadata": {},
   "source": [
    "### Segmentación de datos:"
   ]
  },
  {
   "cell_type": "markdown",
   "metadata": {},
   "source": [
    "#### Entrenamiento:"
   ]
  },
  {
   "cell_type": "markdown",
   "metadata": {},
   "source": [
    "**- La función devuelve dos conjuntos:** \n",
    "\n",
    "     - train_full: este es el conjunto de entrenamiento con el 80% de los datos.\n",
    "     - test: este es el conjunto de prueba con el 20% de los datos.  \n",
    "     \n",
    "**- Ambos serán aleatorios, lo que significa que cada vez que ejecutes la división, podrías obtener un conjunto diferente**"
   ]
  },
  {
   "cell_type": "code",
   "execution_count": 8,
   "metadata": {},
   "outputs": [],
   "source": [
    "train_full, test = train_test_split(data_cruda, test_size=0.2)"
   ]
  },
  {
   "cell_type": "code",
   "execution_count": 9,
   "metadata": {},
   "outputs": [
    {
     "data": {
      "text/html": [
       "<div>\n",
       "<style scoped>\n",
       "    .dataframe tbody tr th:only-of-type {\n",
       "        vertical-align: middle;\n",
       "    }\n",
       "\n",
       "    .dataframe tbody tr th {\n",
       "        vertical-align: top;\n",
       "    }\n",
       "\n",
       "    .dataframe thead th {\n",
       "        text-align: right;\n",
       "    }\n",
       "</style>\n",
       "<table border=\"1\" class=\"dataframe\">\n",
       "  <thead>\n",
       "    <tr style=\"text-align: right;\">\n",
       "      <th></th>\n",
       "      <th>calls</th>\n",
       "      <th>minutes</th>\n",
       "      <th>messages</th>\n",
       "      <th>mb_used</th>\n",
       "      <th>is_ultra</th>\n",
       "    </tr>\n",
       "  </thead>\n",
       "  <tbody>\n",
       "    <tr>\n",
       "      <th>2588</th>\n",
       "      <td>54.0</td>\n",
       "      <td>402.92</td>\n",
       "      <td>53.0</td>\n",
       "      <td>21925.27</td>\n",
       "      <td>0</td>\n",
       "    </tr>\n",
       "    <tr>\n",
       "      <th>1124</th>\n",
       "      <td>1.0</td>\n",
       "      <td>1.00</td>\n",
       "      <td>48.0</td>\n",
       "      <td>20375.87</td>\n",
       "      <td>0</td>\n",
       "    </tr>\n",
       "    <tr>\n",
       "      <th>527</th>\n",
       "      <td>67.0</td>\n",
       "      <td>458.14</td>\n",
       "      <td>24.0</td>\n",
       "      <td>22320.92</td>\n",
       "      <td>0</td>\n",
       "    </tr>\n",
       "    <tr>\n",
       "      <th>114</th>\n",
       "      <td>158.0</td>\n",
       "      <td>1078.86</td>\n",
       "      <td>51.0</td>\n",
       "      <td>30681.14</td>\n",
       "      <td>1</td>\n",
       "    </tr>\n",
       "    <tr>\n",
       "      <th>2533</th>\n",
       "      <td>36.0</td>\n",
       "      <td>227.35</td>\n",
       "      <td>25.0</td>\n",
       "      <td>20406.06</td>\n",
       "      <td>0</td>\n",
       "    </tr>\n",
       "    <tr>\n",
       "      <th>...</th>\n",
       "      <td>...</td>\n",
       "      <td>...</td>\n",
       "      <td>...</td>\n",
       "      <td>...</td>\n",
       "      <td>...</td>\n",
       "    </tr>\n",
       "    <tr>\n",
       "      <th>747</th>\n",
       "      <td>78.0</td>\n",
       "      <td>528.41</td>\n",
       "      <td>11.0</td>\n",
       "      <td>14872.62</td>\n",
       "      <td>0</td>\n",
       "    </tr>\n",
       "    <tr>\n",
       "      <th>2511</th>\n",
       "      <td>72.0</td>\n",
       "      <td>439.92</td>\n",
       "      <td>29.0</td>\n",
       "      <td>14472.76</td>\n",
       "      <td>0</td>\n",
       "    </tr>\n",
       "    <tr>\n",
       "      <th>5</th>\n",
       "      <td>58.0</td>\n",
       "      <td>344.56</td>\n",
       "      <td>21.0</td>\n",
       "      <td>15823.37</td>\n",
       "      <td>0</td>\n",
       "    </tr>\n",
       "    <tr>\n",
       "      <th>1373</th>\n",
       "      <td>121.0</td>\n",
       "      <td>769.36</td>\n",
       "      <td>0.0</td>\n",
       "      <td>42437.52</td>\n",
       "      <td>1</td>\n",
       "    </tr>\n",
       "    <tr>\n",
       "      <th>2870</th>\n",
       "      <td>73.0</td>\n",
       "      <td>560.06</td>\n",
       "      <td>42.0</td>\n",
       "      <td>24364.87</td>\n",
       "      <td>0</td>\n",
       "    </tr>\n",
       "  </tbody>\n",
       "</table>\n",
       "<p>2571 rows × 5 columns</p>\n",
       "</div>"
      ],
      "text/plain": [
       "      calls  minutes  messages   mb_used  is_ultra\n",
       "2588   54.0   402.92      53.0  21925.27         0\n",
       "1124    1.0     1.00      48.0  20375.87         0\n",
       "527    67.0   458.14      24.0  22320.92         0\n",
       "114   158.0  1078.86      51.0  30681.14         1\n",
       "2533   36.0   227.35      25.0  20406.06         0\n",
       "...     ...      ...       ...       ...       ...\n",
       "747    78.0   528.41      11.0  14872.62         0\n",
       "2511   72.0   439.92      29.0  14472.76         0\n",
       "5      58.0   344.56      21.0  15823.37         0\n",
       "1373  121.0   769.36       0.0  42437.52         1\n",
       "2870   73.0   560.06      42.0  24364.87         0\n",
       "\n",
       "[2571 rows x 5 columns]"
      ]
     },
     "execution_count": 9,
     "metadata": {},
     "output_type": "execute_result"
    }
   ],
   "source": [
    "train_full"
   ]
  },
  {
   "cell_type": "code",
   "execution_count": 10,
   "metadata": {},
   "outputs": [
    {
     "data": {
      "text/html": [
       "<div>\n",
       "<style scoped>\n",
       "    .dataframe tbody tr th:only-of-type {\n",
       "        vertical-align: middle;\n",
       "    }\n",
       "\n",
       "    .dataframe tbody tr th {\n",
       "        vertical-align: top;\n",
       "    }\n",
       "\n",
       "    .dataframe thead th {\n",
       "        text-align: right;\n",
       "    }\n",
       "</style>\n",
       "<table border=\"1\" class=\"dataframe\">\n",
       "  <thead>\n",
       "    <tr style=\"text-align: right;\">\n",
       "      <th></th>\n",
       "      <th>calls</th>\n",
       "      <th>minutes</th>\n",
       "      <th>messages</th>\n",
       "      <th>mb_used</th>\n",
       "      <th>is_ultra</th>\n",
       "    </tr>\n",
       "  </thead>\n",
       "  <tbody>\n",
       "    <tr>\n",
       "      <th>1622</th>\n",
       "      <td>74.0</td>\n",
       "      <td>545.52</td>\n",
       "      <td>47.0</td>\n",
       "      <td>13534.15</td>\n",
       "      <td>0</td>\n",
       "    </tr>\n",
       "    <tr>\n",
       "      <th>2088</th>\n",
       "      <td>138.0</td>\n",
       "      <td>933.86</td>\n",
       "      <td>223.0</td>\n",
       "      <td>22499.79</td>\n",
       "      <td>1</td>\n",
       "    </tr>\n",
       "    <tr>\n",
       "      <th>368</th>\n",
       "      <td>31.0</td>\n",
       "      <td>185.63</td>\n",
       "      <td>101.0</td>\n",
       "      <td>14344.72</td>\n",
       "      <td>0</td>\n",
       "    </tr>\n",
       "    <tr>\n",
       "      <th>2777</th>\n",
       "      <td>41.0</td>\n",
       "      <td>269.10</td>\n",
       "      <td>0.0</td>\n",
       "      <td>13495.25</td>\n",
       "      <td>0</td>\n",
       "    </tr>\n",
       "    <tr>\n",
       "      <th>1574</th>\n",
       "      <td>83.0</td>\n",
       "      <td>561.05</td>\n",
       "      <td>0.0</td>\n",
       "      <td>16539.03</td>\n",
       "      <td>0</td>\n",
       "    </tr>\n",
       "    <tr>\n",
       "      <th>...</th>\n",
       "      <td>...</td>\n",
       "      <td>...</td>\n",
       "      <td>...</td>\n",
       "      <td>...</td>\n",
       "      <td>...</td>\n",
       "    </tr>\n",
       "    <tr>\n",
       "      <th>2329</th>\n",
       "      <td>86.0</td>\n",
       "      <td>580.55</td>\n",
       "      <td>33.0</td>\n",
       "      <td>8289.21</td>\n",
       "      <td>0</td>\n",
       "    </tr>\n",
       "    <tr>\n",
       "      <th>1550</th>\n",
       "      <td>92.0</td>\n",
       "      <td>696.17</td>\n",
       "      <td>21.0</td>\n",
       "      <td>19068.23</td>\n",
       "      <td>0</td>\n",
       "    </tr>\n",
       "    <tr>\n",
       "      <th>2917</th>\n",
       "      <td>47.0</td>\n",
       "      <td>350.90</td>\n",
       "      <td>19.0</td>\n",
       "      <td>13867.87</td>\n",
       "      <td>0</td>\n",
       "    </tr>\n",
       "    <tr>\n",
       "      <th>1123</th>\n",
       "      <td>76.0</td>\n",
       "      <td>616.50</td>\n",
       "      <td>17.0</td>\n",
       "      <td>18270.05</td>\n",
       "      <td>0</td>\n",
       "    </tr>\n",
       "    <tr>\n",
       "      <th>215</th>\n",
       "      <td>35.0</td>\n",
       "      <td>267.67</td>\n",
       "      <td>25.0</td>\n",
       "      <td>18231.83</td>\n",
       "      <td>0</td>\n",
       "    </tr>\n",
       "  </tbody>\n",
       "</table>\n",
       "<p>643 rows × 5 columns</p>\n",
       "</div>"
      ],
      "text/plain": [
       "      calls  minutes  messages   mb_used  is_ultra\n",
       "1622   74.0   545.52      47.0  13534.15         0\n",
       "2088  138.0   933.86     223.0  22499.79         1\n",
       "368    31.0   185.63     101.0  14344.72         0\n",
       "2777   41.0   269.10       0.0  13495.25         0\n",
       "1574   83.0   561.05       0.0  16539.03         0\n",
       "...     ...      ...       ...       ...       ...\n",
       "2329   86.0   580.55      33.0   8289.21         0\n",
       "1550   92.0   696.17      21.0  19068.23         0\n",
       "2917   47.0   350.90      19.0  13867.87         0\n",
       "1123   76.0   616.50      17.0  18270.05         0\n",
       "215    35.0   267.67      25.0  18231.83         0\n",
       "\n",
       "[643 rows x 5 columns]"
      ]
     },
     "execution_count": 10,
     "metadata": {},
     "output_type": "execute_result"
    }
   ],
   "source": [
    "test"
   ]
  },
  {
   "cell_type": "markdown",
   "metadata": {},
   "source": [
    "#### Validación:"
   ]
  },
  {
   "cell_type": "markdown",
   "metadata": {},
   "source": [
    "**- La función devuelve dos conjuntos:**  \n",
    "\n",
    "   - train: este es el conjunto de entrenamiento, que se usará para entrenar el modelo.  \n",
    "     \n",
    "   - validacion: este es el conjunto de validación, que se usará para evaluar el modelo durante el ajuste de hiperparámetros o para verificar su rendimiento mientras se entrena.  \n",
    "     \n",
    "   - test_size=0.25 significa que el 25% de `train_full` se utilizará para el conjunto de validación, y el 75% restante se utilizará para el conjunto de entrenamiento."
   ]
  },
  {
   "cell_type": "code",
   "execution_count": 11,
   "metadata": {},
   "outputs": [],
   "source": [
    "train, validacion = train_test_split(train_full, test_size=0.25)"
   ]
  },
  {
   "cell_type": "code",
   "execution_count": 12,
   "metadata": {},
   "outputs": [
    {
     "data": {
      "text/html": [
       "<div>\n",
       "<style scoped>\n",
       "    .dataframe tbody tr th:only-of-type {\n",
       "        vertical-align: middle;\n",
       "    }\n",
       "\n",
       "    .dataframe tbody tr th {\n",
       "        vertical-align: top;\n",
       "    }\n",
       "\n",
       "    .dataframe thead th {\n",
       "        text-align: right;\n",
       "    }\n",
       "</style>\n",
       "<table border=\"1\" class=\"dataframe\">\n",
       "  <thead>\n",
       "    <tr style=\"text-align: right;\">\n",
       "      <th></th>\n",
       "      <th>calls</th>\n",
       "      <th>minutes</th>\n",
       "      <th>messages</th>\n",
       "      <th>mb_used</th>\n",
       "      <th>is_ultra</th>\n",
       "    </tr>\n",
       "  </thead>\n",
       "  <tbody>\n",
       "    <tr>\n",
       "      <th>1023</th>\n",
       "      <td>76.0</td>\n",
       "      <td>601.10</td>\n",
       "      <td>0.0</td>\n",
       "      <td>17104.36</td>\n",
       "      <td>0</td>\n",
       "    </tr>\n",
       "    <tr>\n",
       "      <th>1157</th>\n",
       "      <td>93.0</td>\n",
       "      <td>582.25</td>\n",
       "      <td>58.0</td>\n",
       "      <td>18997.74</td>\n",
       "      <td>0</td>\n",
       "    </tr>\n",
       "    <tr>\n",
       "      <th>1533</th>\n",
       "      <td>0.0</td>\n",
       "      <td>0.00</td>\n",
       "      <td>188.0</td>\n",
       "      <td>33189.50</td>\n",
       "      <td>1</td>\n",
       "    </tr>\n",
       "    <tr>\n",
       "      <th>2054</th>\n",
       "      <td>76.0</td>\n",
       "      <td>598.44</td>\n",
       "      <td>5.0</td>\n",
       "      <td>14806.27</td>\n",
       "      <td>1</td>\n",
       "    </tr>\n",
       "    <tr>\n",
       "      <th>2914</th>\n",
       "      <td>57.0</td>\n",
       "      <td>428.23</td>\n",
       "      <td>5.0</td>\n",
       "      <td>8857.38</td>\n",
       "      <td>1</td>\n",
       "    </tr>\n",
       "    <tr>\n",
       "      <th>...</th>\n",
       "      <td>...</td>\n",
       "      <td>...</td>\n",
       "      <td>...</td>\n",
       "      <td>...</td>\n",
       "      <td>...</td>\n",
       "    </tr>\n",
       "    <tr>\n",
       "      <th>2377</th>\n",
       "      <td>23.0</td>\n",
       "      <td>163.21</td>\n",
       "      <td>23.0</td>\n",
       "      <td>18806.07</td>\n",
       "      <td>0</td>\n",
       "    </tr>\n",
       "    <tr>\n",
       "      <th>2436</th>\n",
       "      <td>81.0</td>\n",
       "      <td>627.34</td>\n",
       "      <td>56.0</td>\n",
       "      <td>17266.00</td>\n",
       "      <td>0</td>\n",
       "    </tr>\n",
       "    <tr>\n",
       "      <th>861</th>\n",
       "      <td>43.0</td>\n",
       "      <td>288.43</td>\n",
       "      <td>21.0</td>\n",
       "      <td>21722.72</td>\n",
       "      <td>1</td>\n",
       "    </tr>\n",
       "    <tr>\n",
       "      <th>357</th>\n",
       "      <td>39.0</td>\n",
       "      <td>221.18</td>\n",
       "      <td>59.0</td>\n",
       "      <td>17865.23</td>\n",
       "      <td>0</td>\n",
       "    </tr>\n",
       "    <tr>\n",
       "      <th>1737</th>\n",
       "      <td>35.0</td>\n",
       "      <td>222.44</td>\n",
       "      <td>6.0</td>\n",
       "      <td>4659.43</td>\n",
       "      <td>0</td>\n",
       "    </tr>\n",
       "  </tbody>\n",
       "</table>\n",
       "<p>643 rows × 5 columns</p>\n",
       "</div>"
      ],
      "text/plain": [
       "      calls  minutes  messages   mb_used  is_ultra\n",
       "1023   76.0   601.10       0.0  17104.36         0\n",
       "1157   93.0   582.25      58.0  18997.74         0\n",
       "1533    0.0     0.00     188.0  33189.50         1\n",
       "2054   76.0   598.44       5.0  14806.27         1\n",
       "2914   57.0   428.23       5.0   8857.38         1\n",
       "...     ...      ...       ...       ...       ...\n",
       "2377   23.0   163.21      23.0  18806.07         0\n",
       "2436   81.0   627.34      56.0  17266.00         0\n",
       "861    43.0   288.43      21.0  21722.72         1\n",
       "357    39.0   221.18      59.0  17865.23         0\n",
       "1737   35.0   222.44       6.0   4659.43         0\n",
       "\n",
       "[643 rows x 5 columns]"
      ]
     },
     "execution_count": 12,
     "metadata": {},
     "output_type": "execute_result"
    }
   ],
   "source": [
    "validacion"
   ]
  },
  {
   "cell_type": "markdown",
   "metadata": {},
   "source": [
    "#### Prueba:"
   ]
  },
  {
   "cell_type": "code",
   "execution_count": 13,
   "metadata": {},
   "outputs": [],
   "source": [
    "caracteristicas_entrenamiento = train.drop('is_ultra', axis = 1)"
   ]
  },
  {
   "cell_type": "markdown",
   "metadata": {},
   "source": [
    "  - Esta es la nueva variable que contendrá el DataFrame resultante después de haber eliminado la columna 'is_ultra'.\n",
    "  - Contendrá solo las características que se usarán para entrenar el modelo."
   ]
  },
  {
   "cell_type": "code",
   "execution_count": 14,
   "metadata": {},
   "outputs": [],
   "source": [
    "objetivo_entrenamiento = train['is_ultra']"
   ]
  },
  {
   "cell_type": "markdown",
   "metadata": {},
   "source": [
    "Esta línea de código está extrayendo la variable objetivo del conjunto de datos de entrenamiento para que puedas usarla más adelante en el proceso de entrenamiento del modelo. En otras palabras, estás preparando los datos que el modelo intentará predecir."
   ]
  },
  {
   "cell_type": "code",
   "execution_count": 15,
   "metadata": {},
   "outputs": [],
   "source": [
    "caracteristicas_validación = validacion.drop('is_ultra', axis = 1)"
   ]
  },
  {
   "cell_type": "markdown",
   "metadata": {},
   "source": [
    "Esta línea de código está preparando el conjunto de datos de validación al eliminar la columna que contiene las etiquetas (`is_ultra`). El resultado, `caracteristicas_validación`, contendrá solo las características que se utilizarán para hacer predicciones en el conjunto de validación."
   ]
  },
  {
   "cell_type": "code",
   "execution_count": 16,
   "metadata": {},
   "outputs": [],
   "source": [
    "objetivo_validación = validacion['is_ultra']"
   ]
  },
  {
   "cell_type": "markdown",
   "metadata": {},
   "source": [
    "La línea de código está extrayendo la columna `is_ultra` del DataFrame `validacion` y almacenándola en la variable `objetivo_validación`. Esto significa que `objetivo_validación` ahora contiene los valores reales que se utilizarán para evaluar el rendimiento del modelo en el conjunto de validación."
   ]
  },
  {
   "cell_type": "code",
   "execution_count": 17,
   "metadata": {},
   "outputs": [],
   "source": [
    "caracteristicas_prueba = test.drop('is_ultra', axis = 1)"
   ]
  },
  {
   "cell_type": "markdown",
   "metadata": {},
   "source": [
    "La línea de código está eliminando la columna `is_ultra` del DataFrame `test` y almacenando el resultado en `caracteristicas_prueba`. Esto significa que `caracteristicas_prueba` ahora contiene solo las columnas que se utilizarán como entradas para el modelo."
   ]
  },
  {
   "cell_type": "code",
   "execution_count": 18,
   "metadata": {},
   "outputs": [],
   "source": [
    "objetivo_prueba = test['is_ultra']"
   ]
  },
  {
   "cell_type": "markdown",
   "metadata": {},
   "source": [
    "La línea de código está extrayendo la columna `is_ultra` del DataFrame `test` y almacenando el resultado en `objetivo_prueba`. Esto significa que `objetivo_prueba` ahora contiene la variable objetivo que se utilizará para comparar las predicciones realizadas por el modelo."
   ]
  },
  {
   "cell_type": "code",
   "execution_count": 19,
   "metadata": {},
   "outputs": [
    {
     "name": "stdout",
     "output_type": "stream",
     "text": [
      "(1928, 4)\n"
     ]
    }
   ],
   "source": [
    "print(caracteristicas_entrenamiento.shape)"
   ]
  },
  {
   "cell_type": "code",
   "execution_count": 20,
   "metadata": {},
   "outputs": [
    {
     "name": "stdout",
     "output_type": "stream",
     "text": [
      "(643, 4)\n"
     ]
    }
   ],
   "source": [
    "print(caracteristicas_validación.shape)"
   ]
  },
  {
   "cell_type": "code",
   "execution_count": 21,
   "metadata": {},
   "outputs": [
    {
     "name": "stdout",
     "output_type": "stream",
     "text": [
      "(643, 4)\n"
     ]
    }
   ],
   "source": [
    "print(caracteristicas_prueba.shape)"
   ]
  },
  {
   "cell_type": "markdown",
   "metadata": {},
   "source": [
    "<div class=\"alert alert-block alert-success\">\n",
    "<b>Comentario del revisor (1ra Iteracion)</b> <a class=“tocSkip”></a>\n",
    "\n",
    "Buen trabajo con la división de tus datos!\n",
    "</div>"
   ]
  },
  {
   "cell_type": "markdown",
   "metadata": {},
   "source": [
    "#### Arbol de decision:"
   ]
  },
  {
   "cell_type": "markdown",
   "metadata": {},
   "source": [
    "El código está diseñado para evaluar cómo la profundidad de un árbol de decisión afecta su rendimiento en conjuntos de datos de prueba y validación. Esto permite identificar la profundidad óptima que maximiza la precisión sin causar sobreajuste."
   ]
  },
  {
   "cell_type": "code",
   "execution_count": 22,
   "metadata": {},
   "outputs": [
    {
     "name": "stdout",
     "output_type": "stream",
     "text": [
      "Profundidad: 1\n",
      "Train: 0.7589424572317263\n",
      "Validacion: 0.749611197511664\n",
      "\n",
      "Profundidad: 2\n",
      "Train: 0.7931570762052877\n",
      "Validacion: 0.7776049766718507\n",
      "\n",
      "Profundidad: 3\n",
      "Train: 0.8087091757387247\n",
      "Validacion: 0.7853810264385692\n",
      "\n",
      "Profundidad: 4\n",
      "Train: 0.8102643856920684\n",
      "Validacion: 0.7807153965785381\n",
      "\n",
      "Profundidad: 5\n",
      "Train: 0.8102643856920684\n",
      "Validacion: 0.7947122861586314\n",
      "\n",
      "Profundidad: 6\n",
      "Train: 0.80248833592535\n",
      "Validacion: 0.7822706065318819\n",
      "\n",
      "Profundidad: 7\n",
      "Train: 0.7993779160186625\n",
      "Validacion: 0.7869362363919129\n",
      "\n",
      "Profundidad: 8\n",
      "Train: 0.7978227060653188\n",
      "Validacion: 0.7776049766718507\n",
      "\n",
      "Profundidad: 9\n",
      "Train: 0.807153965785381\n",
      "Validacion: 0.7776049766718507\n",
      "\n",
      "Profundidad: 10\n",
      "Train: 0.7931570762052877\n",
      "Validacion: 0.7838258164852255\n",
      "\n",
      "Profundidad: 11\n",
      "Train: 0.7667185069984448\n",
      "Validacion: 0.7573872472783826\n",
      "\n",
      "Profundidad: 12\n",
      "Train: 0.7698289269051322\n",
      "Validacion: 0.7713841368584758\n",
      "\n",
      "Profundidad: 13\n",
      "Train: 0.7698289269051322\n",
      "Validacion: 0.7558320373250389\n",
      "\n",
      "Profundidad: 14\n",
      "Train: 0.7589424572317263\n",
      "Validacion: 0.7433903576982893\n",
      "\n"
     ]
    }
   ],
   "source": [
    "for profundidad in range(1,15):\n",
    "    \n",
    "    modelo_arbol_decision = DecisionTreeClassifier(max_depth=profundidad, random_state=12345)\n",
    "    modelo_arbol_decision.fit(caracteristicas_entrenamiento,objetivo_entrenamiento)\n",
    "    print('Profundidad:',profundidad)\n",
    "    print('Train:',modelo_arbol_decision.score(caracteristicas_prueba,objetivo_prueba))\n",
    "    print('Validacion:',modelo_arbol_decision.score(caracteristicas_validación,objetivo_validación))\n",
    "    print()"
   ]
  },
  {
   "cell_type": "markdown",
   "metadata": {},
   "source": [
    "<div class=\"alert alert-block alert-danger\">\n",
    "<b>Comentario del revisor (1ra Iteracion)</b> <a class=“tocSkip”></a>\n",
    "\n",
    "Vas por buen camino con el entrenamiento del modelo! Sin embargo no estás cambiando la profundidad con la que lo estás entrenando ya que tu parámetro `depth` siempre es igual a 1 por lo que el desempeño será siempre el mismo, deberías usar el número que tienes en el for algo así `depth=profundidad` para que tengas resultados diferentes. También te invito a probar con otro modelo como LogisticRegression para que compares los resultados y no olvides redactar tus conclusiones!\n",
    "</div>"
   ]
  },
  {
   "cell_type": "markdown",
   "metadata": {},
   "source": [
    "<div class=\"alert alert-block alert-info\">\n",
    "<b>Se realizó correción, se corrigió `depth=profundidad` </b> <a class=“tocSkip”></a>\n",
    "</div>"
   ]
  },
  {
   "cell_type": "markdown",
   "metadata": {},
   "source": [
    "<div class=\"alert alert-block alert-success\">\n",
    "<b>Comentario del revisor (2da Iteracion)</b> <a class=“tocSkip”></a>\n",
    "\n",
    "Correcto! Ahora obtuviste resultados diferentes según la profundidad de tu modelo, pero si notas a medida que tienes más profundidad las métricas cambian y no necesariamente para bien esto suele suceder con este tipo de modelos basados en árboles por lo que hay que ser bastante cuidadoses con el mejor parámetro a escoger\n",
    "</div>"
   ]
  },
  {
   "cell_type": "markdown",
   "metadata": {},
   "source": [
    "#### Modelo de regresión Logística:"
   ]
  },
  {
   "cell_type": "markdown",
   "metadata": {},
   "source": [
    "Este código crea y entrena un modelo de regresión logística, hace predicciones sobre los datos de entrenamiento y validación, y luego calcula e imprime varias métricas de rendimiento para evaluar la efectividad del modelo. "
   ]
  },
  {
   "cell_type": "code",
   "execution_count": 23,
   "metadata": {},
   "outputs": [],
   "source": [
    "# Crear el modelo de regresión logística\n",
    "modelo_regresion_logistica = LogisticRegression(random_state=12345, max_iter=1000)\n",
    "\n",
    "# Entrenar el modelo\n",
    "modelo_regresion_logistica.fit(caracteristicas_entrenamiento, objetivo_entrenamiento)\n",
    "\n",
    "# Predicciones\n",
    "predicciones_entrenamiento_lr = modelo_regresion_logistica.predict(caracteristicas_entrenamiento)\n",
    "predicciones_validacion_lr = modelo_regresion_logistica.predict(caracteristicas_validación)"
   ]
  },
  {
   "cell_type": "markdown",
   "metadata": {},
   "source": [
    "- Aquí se calculan y se imprimen varias métricas de evaluación:\n",
    "  - **Exactitud**: Proporción de predicciones correctas sobre el total de predicciones, tanto para el conjunto de entrenamiento como para el de validación.\n",
    "  - **Precisión**: Proporción de verdaderos positivos sobre el total de positivos predichos. Indica cuántas de las predicciones positivas fueron realmente correctas.\n",
    "  - **Recall (Sensibilidad)**: Proporción de verdaderos positivos sobre el total de positivos reales. Mide cuántos de los positivos fueron correctamente identificados.\n",
    "  - **F1 Score**: Media armónica entre la precisión y el recall. Es útil cuando hay un desbalance en las clases y se quiere un solo número que represente el rendimiento del modelo."
   ]
  },
  {
   "cell_type": "code",
   "execution_count": 24,
   "metadata": {},
   "outputs": [
    {
     "name": "stdout",
     "output_type": "stream",
     "text": [
      "Resultados para Regresión Logística:\n",
      "Exactitud Entrenamiento: 0.7412\n",
      "Exactitud Validación: 0.7403\n",
      "Precisión: 0.8919\n",
      "Recall: 0.1684\n",
      "F1 Score: 0.2833\n",
      "\n"
     ]
    }
   ],
   "source": [
    "# Métricas para regresión logística\n",
    "print(\"Resultados para Regresión Logística:\")\n",
    "print(f'Exactitud Entrenamiento: {accuracy_score(objetivo_entrenamiento, predicciones_entrenamiento_lr):.4f}')\n",
    "print(f'Exactitud Validación: {accuracy_score(objetivo_validación, predicciones_validacion_lr):.4f}')\n",
    "print(f'Precisión: {precision_score(objetivo_validación, predicciones_validacion_lr):.4f}')\n",
    "print(f'Recall: {recall_score(objetivo_validación, predicciones_validacion_lr):.4f}')\n",
    "print(f'F1 Score: {f1_score(objetivo_validación, predicciones_validacion_lr):.4f}')\n",
    "print()"
   ]
  },
  {
   "cell_type": "markdown",
   "metadata": {},
   "source": [
    "#### Comparación de Metricas:"
   ]
  },
  {
   "cell_type": "markdown",
   "metadata": {},
   "source": [
    "En resumen, este código crea y entrena un modelo de árbol de decisión, hace predicciones sobre los datos de entrenamiento y validación, y luego calcula e imprime varias métricas de rendimiento para evaluar la efectividad del modelo. Esto permite comparar el rendimiento del árbol de decisión con el de otros modelos, como la regresión logística, que se había analizado previamente."
   ]
  },
  {
   "cell_type": "code",
   "execution_count": 25,
   "metadata": {},
   "outputs": [
    {
     "name": "stdout",
     "output_type": "stream",
     "text": [
      "Resultados para Árbol de Decisión:\n",
      "Exactitud Entrenamiento: 0.8154\n",
      "Exactitud Validación: 0.7947\n",
      "Precisión: 0.8200\n",
      "Recall: 0.4184\n",
      "F1 Score: 0.5541\n",
      "\n"
     ]
    }
   ],
   "source": [
    "# Comparar con el árbol de decisión\n",
    "modelo_arbol_decision = DecisionTreeClassifier(max_depth=5, random_state=12345)\n",
    "modelo_arbol_decision.fit(caracteristicas_entrenamiento, objetivo_entrenamiento)\n",
    "\n",
    "# Predicciones del árbol de decisión\n",
    "predicciones_entrenamiento_dt = modelo_arbol_decision.predict(caracteristicas_entrenamiento)\n",
    "predicciones_validacion_dt = modelo_arbol_decision.predict(caracteristicas_validación)\n",
    "\n",
    "# Métricas para árbol de decisión\n",
    "print(\"Resultados para Árbol de Decisión:\")\n",
    "print(f'Exactitud Entrenamiento: {accuracy_score(objetivo_entrenamiento, predicciones_entrenamiento_dt):.4f}')\n",
    "print(f'Exactitud Validación: {accuracy_score(objetivo_validación, predicciones_validacion_dt):.4f}')\n",
    "print(f'Precisión: {precision_score(objetivo_validación, predicciones_validacion_dt):.4f}')\n",
    "print(f'Recall: {recall_score(objetivo_validación, predicciones_validacion_dt):.4f}')\n",
    "print(f'F1 Score: {f1_score(objetivo_validación, predicciones_validacion_dt):.4f}')\n",
    "print()\n"
   ]
  },
  {
   "cell_type": "markdown",
   "metadata": {},
   "source": [
    "# Conclusiones:"
   ]
  },
  {
   "cell_type": "markdown",
   "metadata": {},
   "source": [
    "En el proyecto de clasificación para la empresa Megaline, se buscó desarrollar un modelo que pudiera predecir correctamente el plan adecuado (Smart o Ultra) para sus usuarios, utilizando datos de comportamiento como llamadas, mensajes, minutos de uso y tráfico de Internet. El objetivo era alcanzar una exactitud mínima de 0.75 en la predicción de los planes.\n",
    "\n",
    "Se probaron dos modelos principales: **Regresión Logística** y **Árbol de Decisión**.\n",
    "\n",
    "- La **Regresión Logística** presentó una exactitud en los conjuntos de entrenamiento y validación de 0.7070 y 0.7030, respectivamente. Aunque la precisión fue aceptable (0.7778), el modelo mostró un rendimiento deficiente en cuanto a la identificación de usuarios del plan Ultra, con un recall de 0.0357 y un F1 score de 0.0683. Estos resultados indican que este modelo tiene dificultades para detectar correctamente a los usuarios del plan Ultra, lo que lo hace menos adecuado para la tarea.\n",
    "\n",
    "- El **Árbol de Decisión**, por otro lado, superó las expectativas al lograr una exactitud en el conjunto de validación de 0.7900, superior al umbral mínimo requerido. Además, presentó un buen equilibrio entre precisión (0.8144), recall (0.4031) y F1 score (0.5392). Esto demuestra que este modelo no solo predice de manera confiable los usuarios que pertenecen al plan Ultra, sino que también ofrece una mejora notable en la identificación de estos usuarios en comparación con la Regresión Logística.\n",
    "\n",
    "**En resumen**, el **Árbol de Decisión** es el modelo más adecuado para la tarea de clasificación planteada por Megaline, ya que cumple con el requisito de exactitud y presenta un mejor balance entre precisión y recall, logrando así una recomendación más precisa de los planes para los usuarios. La Regresión Logística, aunque precisa en algunos aspectos, no es lo suficientemente robusta para este caso en particular."
   ]
  },
  {
   "cell_type": "markdown",
   "metadata": {},
   "source": [
    "<div class=\"alert alert-block alert-success\">\n",
    "<b>Comentario del revisor (2da Iteracion)</b> <a class=“tocSkip”></a>\n",
    "\n",
    "Muy buen trabajo Katherine! Obtuviste un modelo con desempeño bastante bueno y por encima del umbral requerido para este proyecto. Además, analizaste muy bien los resultados de los dos modelos entrenados para escoger el mejor, te felicito!\n",
    "</div>"
   ]
  }
 ],
 "metadata": {
  "ExecuteTimeLog": [
   {
    "duration": 1253,
    "start_time": "2024-10-01T02:05:07.571Z"
   },
   {
    "duration": 3,
    "start_time": "2024-10-01T02:06:21.087Z"
   },
   {
    "duration": 103,
    "start_time": "2024-10-01T02:06:24.825Z"
   },
   {
    "duration": 59,
    "start_time": "2024-10-01T02:11:04.851Z"
   },
   {
    "duration": 58,
    "start_time": "2024-10-01T02:11:34.902Z"
   },
   {
    "duration": 60,
    "start_time": "2024-10-01T02:13:53.186Z"
   },
   {
    "duration": 68,
    "start_time": "2024-10-01T02:16:54.571Z"
   },
   {
    "duration": 58,
    "start_time": "2024-10-01T02:20:49.708Z"
   },
   {
    "duration": 2,
    "start_time": "2024-10-01T02:20:52.881Z"
   },
   {
    "duration": 59,
    "start_time": "2024-10-01T02:20:57.008Z"
   },
   {
    "duration": 765,
    "start_time": "2024-10-01T02:21:22.936Z"
   },
   {
    "duration": 522,
    "start_time": "2024-10-01T02:21:23.704Z"
   },
   {
    "duration": 0,
    "start_time": "2024-10-01T02:21:24.228Z"
   },
   {
    "duration": 0,
    "start_time": "2024-10-01T02:21:24.231Z"
   },
   {
    "duration": 0,
    "start_time": "2024-10-01T02:21:24.232Z"
   },
   {
    "duration": 104,
    "start_time": "2024-10-01T02:22:14.428Z"
   },
   {
    "duration": 60,
    "start_time": "2024-10-01T02:23:23.604Z"
   },
   {
    "duration": 60,
    "start_time": "2024-10-01T02:23:41.494Z"
   },
   {
    "duration": 58,
    "start_time": "2024-10-01T02:25:11.828Z"
   },
   {
    "duration": 3,
    "start_time": "2024-10-01T02:26:00.280Z"
   },
   {
    "duration": 3,
    "start_time": "2024-10-01T02:26:06.707Z"
   },
   {
    "duration": 58,
    "start_time": "2024-10-01T02:27:06.056Z"
   },
   {
    "duration": 59,
    "start_time": "2024-10-01T02:27:28.434Z"
   },
   {
    "duration": 61,
    "start_time": "2024-10-01T02:50:12.858Z"
   },
   {
    "duration": 59,
    "start_time": "2024-10-01T02:51:51.486Z"
   },
   {
    "duration": 18,
    "start_time": "2024-10-01T03:21:49.775Z"
   },
   {
    "duration": 62,
    "start_time": "2024-10-01T03:22:08.564Z"
   },
   {
    "duration": 16,
    "start_time": "2024-10-01T03:26:21.346Z"
   },
   {
    "duration": 15,
    "start_time": "2024-10-01T03:27:45.255Z"
   },
   {
    "duration": 13,
    "start_time": "2024-10-01T03:31:05.862Z"
   },
   {
    "duration": 153,
    "start_time": "2024-10-01T17:47:10.156Z"
   },
   {
    "duration": 746,
    "start_time": "2024-10-01T17:47:22.104Z"
   },
   {
    "duration": 364,
    "start_time": "2024-10-01T17:47:25.440Z"
   },
   {
    "duration": 12,
    "start_time": "2024-10-01T17:47:26.686Z"
   },
   {
    "duration": 103,
    "start_time": "2024-10-01T17:47:45.934Z"
   },
   {
    "duration": 64,
    "start_time": "2024-10-01T17:48:59.935Z"
   },
   {
    "duration": 58,
    "start_time": "2024-10-01T17:59:51.510Z"
   },
   {
    "duration": 6,
    "start_time": "2024-10-01T18:00:53.250Z"
   },
   {
    "duration": 60,
    "start_time": "2024-10-01T18:03:03.940Z"
   },
   {
    "duration": 57,
    "start_time": "2024-10-01T18:08:50.237Z"
   },
   {
    "duration": 61,
    "start_time": "2024-10-01T18:14:09.778Z"
   },
   {
    "duration": 157,
    "start_time": "2024-10-01T21:46:56.908Z"
   },
   {
    "duration": 759,
    "start_time": "2024-10-01T21:47:00.507Z"
   },
   {
    "duration": 21,
    "start_time": "2024-10-01T21:47:03.913Z"
   },
   {
    "duration": 8,
    "start_time": "2024-10-01T21:47:35.351Z"
   },
   {
    "duration": 7,
    "start_time": "2024-10-01T21:47:37.674Z"
   },
   {
    "duration": 9,
    "start_time": "2024-10-01T21:47:41.258Z"
   },
   {
    "duration": 24,
    "start_time": "2024-10-01T21:47:46.332Z"
   },
   {
    "duration": 4,
    "start_time": "2024-10-01T21:47:49.819Z"
   },
   {
    "duration": 4,
    "start_time": "2024-10-01T21:47:57.121Z"
   },
   {
    "duration": 745,
    "start_time": "2024-10-01T21:47:59.032Z"
   },
   {
    "duration": 14,
    "start_time": "2024-10-01T21:54:42.860Z"
   },
   {
    "duration": 11,
    "start_time": "2024-10-01T21:58:59.334Z"
   },
   {
    "duration": 3,
    "start_time": "2024-10-01T22:00:29.280Z"
   },
   {
    "duration": 32,
    "start_time": "2024-10-01T22:13:04.495Z"
   },
   {
    "duration": 3,
    "start_time": "2024-10-01T22:13:40.530Z"
   },
   {
    "duration": 17,
    "start_time": "2024-10-01T22:13:58.317Z"
   },
   {
    "duration": 84,
    "start_time": "2024-10-01T22:14:04.213Z"
   },
   {
    "duration": 3,
    "start_time": "2024-10-01T22:14:07.147Z"
   },
   {
    "duration": 2,
    "start_time": "2024-10-01T22:14:21.426Z"
   },
   {
    "duration": 3,
    "start_time": "2024-10-01T22:14:28.366Z"
   },
   {
    "duration": 12,
    "start_time": "2024-10-01T22:14:30.631Z"
   },
   {
    "duration": 4,
    "start_time": "2024-10-01T22:14:42.264Z"
   },
   {
    "duration": 10,
    "start_time": "2024-10-01T22:14:44.743Z"
   },
   {
    "duration": 12,
    "start_time": "2024-10-01T22:14:48.485Z"
   },
   {
    "duration": 3,
    "start_time": "2024-10-01T22:15:01.209Z"
   },
   {
    "duration": 3,
    "start_time": "2024-10-01T22:15:08.376Z"
   },
   {
    "duration": 3,
    "start_time": "2024-10-01T22:15:11.064Z"
   },
   {
    "duration": 3,
    "start_time": "2024-10-01T22:15:15.241Z"
   },
   {
    "duration": 3,
    "start_time": "2024-10-01T22:15:31.568Z"
   },
   {
    "duration": 8,
    "start_time": "2024-10-01T22:20:08.168Z"
   },
   {
    "duration": 7,
    "start_time": "2024-10-01T22:31:46.372Z"
   },
   {
    "duration": 43,
    "start_time": "2024-10-01T22:32:24.433Z"
   },
   {
    "duration": 58,
    "start_time": "2024-10-01T22:33:00.103Z"
   },
   {
    "duration": 43,
    "start_time": "2024-10-01T22:34:29.097Z"
   },
   {
    "duration": 44,
    "start_time": "2024-10-01T22:35:50.290Z"
   },
   {
    "duration": 796,
    "start_time": "2024-10-02T02:20:34.313Z"
   },
   {
    "duration": 784,
    "start_time": "2024-10-02T02:20:53.709Z"
   },
   {
    "duration": 14,
    "start_time": "2024-10-02T02:20:54.495Z"
   },
   {
    "duration": 6,
    "start_time": "2024-10-02T02:20:54.511Z"
   },
   {
    "duration": 9,
    "start_time": "2024-10-02T02:20:54.518Z"
   },
   {
    "duration": 13,
    "start_time": "2024-10-02T02:20:54.529Z"
   },
   {
    "duration": 3,
    "start_time": "2024-10-02T02:20:54.544Z"
   },
   {
    "duration": 238,
    "start_time": "2024-10-02T02:20:54.549Z"
   },
   {
    "duration": 0,
    "start_time": "2024-10-02T02:20:54.789Z"
   },
   {
    "duration": 0,
    "start_time": "2024-10-02T02:20:54.791Z"
   },
   {
    "duration": 0,
    "start_time": "2024-10-02T02:20:54.792Z"
   },
   {
    "duration": 0,
    "start_time": "2024-10-02T02:20:54.794Z"
   },
   {
    "duration": 0,
    "start_time": "2024-10-02T02:20:54.795Z"
   },
   {
    "duration": 0,
    "start_time": "2024-10-02T02:20:54.796Z"
   },
   {
    "duration": 0,
    "start_time": "2024-10-02T02:20:54.798Z"
   },
   {
    "duration": 0,
    "start_time": "2024-10-02T02:20:54.798Z"
   },
   {
    "duration": 0,
    "start_time": "2024-10-02T02:20:54.800Z"
   },
   {
    "duration": 0,
    "start_time": "2024-10-02T02:20:54.801Z"
   },
   {
    "duration": 0,
    "start_time": "2024-10-02T02:20:54.802Z"
   },
   {
    "duration": 0,
    "start_time": "2024-10-02T02:20:54.803Z"
   },
   {
    "duration": 0,
    "start_time": "2024-10-02T02:20:54.804Z"
   },
   {
    "duration": 0,
    "start_time": "2024-10-02T02:20:54.805Z"
   },
   {
    "duration": 0,
    "start_time": "2024-10-02T02:20:54.807Z"
   },
   {
    "duration": 0,
    "start_time": "2024-10-02T02:20:54.809Z"
   },
   {
    "duration": 12,
    "start_time": "2024-10-02T02:26:24.455Z"
   },
   {
    "duration": 12,
    "start_time": "2024-10-02T02:26:32.082Z"
   },
   {
    "duration": 4,
    "start_time": "2024-10-02T02:26:47.868Z"
   },
   {
    "duration": 10,
    "start_time": "2024-10-02T02:26:50.098Z"
   },
   {
    "duration": 3,
    "start_time": "2024-10-02T02:26:53.042Z"
   },
   {
    "duration": 4,
    "start_time": "2024-10-02T02:26:55.192Z"
   },
   {
    "duration": 6,
    "start_time": "2024-10-02T02:26:57.191Z"
   },
   {
    "duration": 3,
    "start_time": "2024-10-02T02:26:59.540Z"
   },
   {
    "duration": 3,
    "start_time": "2024-10-02T02:27:01.512Z"
   },
   {
    "duration": 3,
    "start_time": "2024-10-02T02:27:04.129Z"
   },
   {
    "duration": 5,
    "start_time": "2024-10-02T02:27:06.681Z"
   },
   {
    "duration": 3,
    "start_time": "2024-10-02T02:27:08.708Z"
   },
   {
    "duration": 3,
    "start_time": "2024-10-02T02:27:11.350Z"
   },
   {
    "duration": 43,
    "start_time": "2024-10-02T02:27:15.487Z"
   },
   {
    "duration": 51,
    "start_time": "2024-10-02T02:28:06.511Z"
   },
   {
    "duration": 6,
    "start_time": "2024-10-02T02:30:41.320Z"
   },
   {
    "duration": 6,
    "start_time": "2024-10-02T02:31:15.392Z"
   },
   {
    "duration": 8,
    "start_time": "2024-10-02T02:32:24.006Z"
   },
   {
    "duration": 5,
    "start_time": "2024-10-02T02:32:37.435Z"
   },
   {
    "duration": 9,
    "start_time": "2024-10-02T02:32:44.838Z"
   },
   {
    "duration": 16,
    "start_time": "2024-10-02T02:32:50.860Z"
   },
   {
    "duration": 6,
    "start_time": "2024-10-02T02:32:56.260Z"
   },
   {
    "duration": 7,
    "start_time": "2024-10-02T02:33:00.444Z"
   },
   {
    "duration": 11,
    "start_time": "2024-10-02T02:38:23.507Z"
   },
   {
    "duration": 62,
    "start_time": "2024-10-02T02:44:55.946Z"
   },
   {
    "duration": 3,
    "start_time": "2024-10-02T03:42:32.496Z"
   },
   {
    "duration": 2,
    "start_time": "2024-10-02T03:43:23.901Z"
   },
   {
    "duration": 58,
    "start_time": "2024-10-02T04:17:39.829Z"
   },
   {
    "duration": 792,
    "start_time": "2024-10-02T23:12:13.361Z"
   },
   {
    "duration": 14,
    "start_time": "2024-10-02T23:12:14.156Z"
   },
   {
    "duration": 6,
    "start_time": "2024-10-02T23:12:14.172Z"
   },
   {
    "duration": 8,
    "start_time": "2024-10-02T23:12:14.179Z"
   },
   {
    "duration": 14,
    "start_time": "2024-10-02T23:12:14.190Z"
   },
   {
    "duration": 6,
    "start_time": "2024-10-02T23:12:14.205Z"
   },
   {
    "duration": 34,
    "start_time": "2024-10-02T23:12:14.213Z"
   },
   {
    "duration": 4,
    "start_time": "2024-10-02T23:12:14.248Z"
   },
   {
    "duration": 11,
    "start_time": "2024-10-02T23:12:14.254Z"
   },
   {
    "duration": 9,
    "start_time": "2024-10-02T23:12:14.267Z"
   },
   {
    "duration": 3,
    "start_time": "2024-10-02T23:12:14.278Z"
   },
   {
    "duration": 9,
    "start_time": "2024-10-02T23:12:14.283Z"
   },
   {
    "duration": 3,
    "start_time": "2024-10-02T23:12:14.293Z"
   },
   {
    "duration": 2,
    "start_time": "2024-10-02T23:12:14.343Z"
   },
   {
    "duration": 3,
    "start_time": "2024-10-02T23:12:14.347Z"
   },
   {
    "duration": 2,
    "start_time": "2024-10-02T23:12:14.352Z"
   },
   {
    "duration": 3,
    "start_time": "2024-10-02T23:12:14.356Z"
   },
   {
    "duration": 2,
    "start_time": "2024-10-02T23:12:14.361Z"
   },
   {
    "duration": 4,
    "start_time": "2024-10-02T23:12:14.364Z"
   },
   {
    "duration": 2,
    "start_time": "2024-10-02T23:12:14.370Z"
   },
   {
    "duration": 3,
    "start_time": "2024-10-02T23:12:14.374Z"
   },
   {
    "duration": 106,
    "start_time": "2024-10-02T23:12:14.379Z"
   },
   {
    "duration": 3,
    "start_time": "2024-10-03T02:25:07.548Z"
   },
   {
    "duration": 9,
    "start_time": "2024-10-03T02:25:07.553Z"
   },
   {
    "duration": 5,
    "start_time": "2024-10-03T02:25:07.563Z"
   },
   {
    "duration": 8,
    "start_time": "2024-10-03T02:25:07.569Z"
   },
   {
    "duration": 12,
    "start_time": "2024-10-03T02:25:07.580Z"
   },
   {
    "duration": 5,
    "start_time": "2024-10-03T02:25:07.594Z"
   },
   {
    "duration": 5,
    "start_time": "2024-10-03T02:25:07.600Z"
   },
   {
    "duration": 38,
    "start_time": "2024-10-03T02:25:07.607Z"
   },
   {
    "duration": 9,
    "start_time": "2024-10-03T02:25:07.646Z"
   },
   {
    "duration": 10,
    "start_time": "2024-10-03T02:25:07.657Z"
   },
   {
    "duration": 4,
    "start_time": "2024-10-03T02:25:07.668Z"
   },
   {
    "duration": 9,
    "start_time": "2024-10-03T02:25:07.673Z"
   },
   {
    "duration": 4,
    "start_time": "2024-10-03T02:25:07.684Z"
   },
   {
    "duration": 3,
    "start_time": "2024-10-03T02:25:07.690Z"
   },
   {
    "duration": 2,
    "start_time": "2024-10-03T02:25:07.695Z"
   },
   {
    "duration": 2,
    "start_time": "2024-10-03T02:25:07.699Z"
   },
   {
    "duration": 42,
    "start_time": "2024-10-03T02:25:07.703Z"
   },
   {
    "duration": 3,
    "start_time": "2024-10-03T02:25:07.747Z"
   },
   {
    "duration": 3,
    "start_time": "2024-10-03T02:25:07.752Z"
   },
   {
    "duration": 3,
    "start_time": "2024-10-03T02:25:07.756Z"
   },
   {
    "duration": 3,
    "start_time": "2024-10-03T02:25:07.761Z"
   },
   {
    "duration": 103,
    "start_time": "2024-10-03T02:25:07.766Z"
   },
   {
    "duration": 9,
    "start_time": "2024-10-04T02:33:03.992Z"
   },
   {
    "duration": 156,
    "start_time": "2024-10-04T02:33:18.826Z"
   },
   {
    "duration": 781,
    "start_time": "2024-10-04T02:33:32.010Z"
   },
   {
    "duration": 16,
    "start_time": "2024-10-04T02:33:32.793Z"
   },
   {
    "duration": 127,
    "start_time": "2024-10-04T02:33:32.811Z"
   },
   {
    "duration": 0,
    "start_time": "2024-10-04T02:33:32.940Z"
   },
   {
    "duration": 0,
    "start_time": "2024-10-04T02:33:32.941Z"
   },
   {
    "duration": 0,
    "start_time": "2024-10-04T02:33:32.947Z"
   },
   {
    "duration": 0,
    "start_time": "2024-10-04T02:33:32.947Z"
   },
   {
    "duration": 0,
    "start_time": "2024-10-04T02:33:32.949Z"
   },
   {
    "duration": 0,
    "start_time": "2024-10-04T02:33:32.950Z"
   },
   {
    "duration": 0,
    "start_time": "2024-10-04T02:33:32.951Z"
   },
   {
    "duration": 0,
    "start_time": "2024-10-04T02:33:32.952Z"
   },
   {
    "duration": 0,
    "start_time": "2024-10-04T02:33:32.953Z"
   },
   {
    "duration": 0,
    "start_time": "2024-10-04T02:33:32.955Z"
   },
   {
    "duration": 0,
    "start_time": "2024-10-04T02:33:32.956Z"
   },
   {
    "duration": 0,
    "start_time": "2024-10-04T02:33:32.957Z"
   },
   {
    "duration": 0,
    "start_time": "2024-10-04T02:33:32.958Z"
   },
   {
    "duration": 1,
    "start_time": "2024-10-04T02:33:32.958Z"
   },
   {
    "duration": 0,
    "start_time": "2024-10-04T02:33:32.960Z"
   },
   {
    "duration": 0,
    "start_time": "2024-10-04T02:33:32.961Z"
   },
   {
    "duration": 0,
    "start_time": "2024-10-04T02:33:32.962Z"
   },
   {
    "duration": 0,
    "start_time": "2024-10-04T02:33:32.963Z"
   },
   {
    "duration": 0,
    "start_time": "2024-10-04T02:33:32.963Z"
   },
   {
    "duration": 16,
    "start_time": "2024-10-04T02:33:44.905Z"
   },
   {
    "duration": 12,
    "start_time": "2024-10-04T02:34:03.867Z"
   },
   {
    "duration": 15,
    "start_time": "2024-10-04T02:34:30.988Z"
   },
   {
    "duration": 9,
    "start_time": "2024-10-04T02:35:21.870Z"
   },
   {
    "duration": 9,
    "start_time": "2024-10-04T02:35:32.911Z"
   },
   {
    "duration": 15,
    "start_time": "2024-10-04T02:35:37.593Z"
   },
   {
    "duration": 16,
    "start_time": "2024-10-04T02:35:45.725Z"
   },
   {
    "duration": 8,
    "start_time": "2024-10-04T02:36:10.430Z"
   },
   {
    "duration": 5,
    "start_time": "2024-10-04T02:36:24.864Z"
   },
   {
    "duration": 6,
    "start_time": "2024-10-04T02:36:27.297Z"
   },
   {
    "duration": 4,
    "start_time": "2024-10-04T02:36:33.476Z"
   },
   {
    "duration": 12,
    "start_time": "2024-10-04T02:36:36.023Z"
   },
   {
    "duration": 10,
    "start_time": "2024-10-04T02:36:40.424Z"
   },
   {
    "duration": 6,
    "start_time": "2024-10-04T02:36:45.324Z"
   },
   {
    "duration": 12,
    "start_time": "2024-10-04T02:36:48.193Z"
   },
   {
    "duration": 5,
    "start_time": "2024-10-04T02:36:52.649Z"
   },
   {
    "duration": 2,
    "start_time": "2024-10-04T02:36:56.394Z"
   },
   {
    "duration": 3,
    "start_time": "2024-10-04T02:36:59.041Z"
   },
   {
    "duration": 2,
    "start_time": "2024-10-04T02:37:01.440Z"
   },
   {
    "duration": 3,
    "start_time": "2024-10-04T02:37:04.987Z"
   },
   {
    "duration": 3,
    "start_time": "2024-10-04T02:37:08.996Z"
   },
   {
    "duration": 3,
    "start_time": "2024-10-04T02:37:13.280Z"
   },
   {
    "duration": 3,
    "start_time": "2024-10-04T02:37:15.851Z"
   },
   {
    "duration": 3,
    "start_time": "2024-10-04T02:37:21.144Z"
   },
   {
    "duration": 100,
    "start_time": "2024-10-04T02:38:29.396Z"
   },
   {
    "duration": 2,
    "start_time": "2024-10-04T02:49:09.917Z"
   },
   {
    "duration": 18,
    "start_time": "2024-10-04T02:50:01.317Z"
   },
   {
    "duration": 14,
    "start_time": "2024-10-04T02:51:06.082Z"
   },
   {
    "duration": 14,
    "start_time": "2024-10-04T02:55:02.210Z"
   },
   {
    "duration": 8,
    "start_time": "2024-10-04T02:55:09.738Z"
   },
   {
    "duration": 856,
    "start_time": "2024-10-04T03:55:47.036Z"
   },
   {
    "duration": 14,
    "start_time": "2024-10-04T03:55:47.895Z"
   },
   {
    "duration": 12,
    "start_time": "2024-10-04T03:55:47.910Z"
   },
   {
    "duration": 16,
    "start_time": "2024-10-04T03:55:47.924Z"
   },
   {
    "duration": 17,
    "start_time": "2024-10-04T03:55:47.945Z"
   },
   {
    "duration": 5,
    "start_time": "2024-10-04T03:55:47.964Z"
   },
   {
    "duration": 5,
    "start_time": "2024-10-04T03:55:47.970Z"
   },
   {
    "duration": 4,
    "start_time": "2024-10-04T03:55:47.977Z"
   },
   {
    "duration": 11,
    "start_time": "2024-10-04T03:55:47.983Z"
   },
   {
    "duration": 45,
    "start_time": "2024-10-04T03:55:47.996Z"
   },
   {
    "duration": 4,
    "start_time": "2024-10-04T03:55:48.043Z"
   },
   {
    "duration": 10,
    "start_time": "2024-10-04T03:55:48.049Z"
   },
   {
    "duration": 4,
    "start_time": "2024-10-04T03:55:48.060Z"
   },
   {
    "duration": 3,
    "start_time": "2024-10-04T03:55:48.067Z"
   },
   {
    "duration": 4,
    "start_time": "2024-10-04T03:55:48.072Z"
   },
   {
    "duration": 3,
    "start_time": "2024-10-04T03:55:48.077Z"
   },
   {
    "duration": 3,
    "start_time": "2024-10-04T03:55:48.082Z"
   },
   {
    "duration": 47,
    "start_time": "2024-10-04T03:55:48.086Z"
   },
   {
    "duration": 8,
    "start_time": "2024-10-04T03:55:48.136Z"
   },
   {
    "duration": 4,
    "start_time": "2024-10-04T03:55:48.145Z"
   },
   {
    "duration": 3,
    "start_time": "2024-10-04T03:55:48.151Z"
   },
   {
    "duration": 130,
    "start_time": "2024-10-04T03:55:48.157Z"
   },
   {
    "duration": 24,
    "start_time": "2024-10-04T03:55:48.289Z"
   },
   {
    "duration": 20,
    "start_time": "2024-10-04T03:55:48.315Z"
   },
   {
    "duration": 15,
    "start_time": "2024-10-04T03:55:48.338Z"
   }
  ],
  "kernelspec": {
   "display_name": "Python 3 (ipykernel)",
   "language": "python",
   "name": "python3"
  },
  "language_info": {
   "codemirror_mode": {
    "name": "ipython",
    "version": 3
   },
   "file_extension": ".py",
   "mimetype": "text/x-python",
   "name": "python",
   "nbconvert_exporter": "python",
   "pygments_lexer": "ipython3",
   "version": "3.9.19"
  },
  "toc": {
   "base_numbering": 1,
   "nav_menu": {},
   "number_sections": true,
   "sideBar": true,
   "skip_h1_title": true,
   "title_cell": "Table of Contents",
   "title_sidebar": "Contents",
   "toc_cell": false,
   "toc_position": {},
   "toc_section_display": true,
   "toc_window_display": false
  }
 },
 "nbformat": 4,
 "nbformat_minor": 2
}
